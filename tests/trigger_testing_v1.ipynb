{
 "cells": [
  {
   "cell_type": "code",
   "execution_count": null,
   "metadata": {
    "code_folding": [
     0
    ],
    "collapsed": false
   },
   "outputs": [],
   "source": [
    "nyc_ts_load"
   ]
  },
  {
   "cell_type": "code",
   "execution_count": null,
   "metadata": {
    "code_folding": [
     0,
     17,
     27,
     35,
     44
    ],
    "collapsed": false
   },
   "outputs": [],
   "source": [
    "# Load Remaining Components\n",
    "\n",
    "# T = pg.T\n",
    "# F = pg.F\n",
    "\n",
    "_db = \"system\"\n",
    "T.eng                                 =   T.create_engine(r'postgresql://%s:%s@%s:%s/%s'\n",
    "                                                          %(T.DB_USER,T.DB_PW,T.DB_HOST,T.DB_PORT,_db),\n",
    "                                                          encoding='utf-8',\n",
    "                                                          echo=False)\n",
    "\n",
    "%pdb off\n",
    "\n",
    "%sql postgresql://$T.DB_USER:$T.DB_PW@$T.DB_HOST:$T.DB_PORT/$_db"
   ]
  },
  {
   "cell_type": "code",
   "execution_count": null,
   "metadata": {
    "code_folding": [
     0
    ],
    "collapsed": true
   },
   "outputs": [],
   "source": [
    "# LOAD BASIC PGSQL FUNCTIONS\n",
    "\n",
    "get metadata\n",
    "try to get text content\n",
    "if no content, then \n",
    "echo \"GET /send?uuid=%s&filename=%s&filepath=%s\" | socat -v - unix:/var/sockets/fsp_send.sock \n",
    "\n",
    "echo \"GET /send?uuid=06893ea&filename=06893ea&filepath=/home/ub2/ARCHIVE/gmail_attachments/06893ea\" | socat -v - unix:/var/sockets/fsp_send.sock"
   ]
  },
  {
   "cell_type": "markdown",
   "metadata": {
    "code_folding": [
     0
    ]
   },
   "source": [
    "### GENERAL FLOW\n",
    "\n",
    "1. email added to local server\n",
    "2. info for each attachment added to `file_idx` table\n",
    "3. each new file triggers content and metadata extraction\n",
    "    - pdf files needing OCR are added to file_server queue\n",
    "\n",
    "\n",
    "#### PDF OCR Flow\n",
    "1. pgsql uses linux at/batch and queues script to run on PDF\n",
    "2. script communicates pdf via tcp/sock/websocket to designated file processing server (FPS) and end upon receipt confirmation\n",
    "    -unix:/var/sockets/fsp_send.sock\n",
    "3. on FPS, pdf dropped into folder watched by pypdfocr, which creates ocr version and queues script to update pgsql\n",
    "4. the FPS-queued scripts communicate PDF content back to pgsql via nginx websocket"
   ]
  },
  {
   "cell_type": "code",
   "execution_count": null,
   "metadata": {
    "code_folding": [],
    "collapsed": false,
    "scrolled": true
   },
   "outputs": [],
   "source": [
    "%%sql postgres@system\n",
    "do language plpythonu \n",
    "    $BODY$\n",
    "\n",
    "    from subprocess                         import Popen            as sub_popen\n",
    "    from subprocess                         import PIPE             as sub_PIPE\n",
    "\n",
    "    base_dir = '/home/ub2/ARCHIVE/gmail_attachments/'\n",
    "    # f_name = TD[\"_key\"]\n",
    "    f_name = '06893ea_ocr.pdf'\n",
    "    f_path = base_dir + f_name\n",
    "    cmd = ';'.join([  'pdfinfo -meta %s | jq -sRcMj \\'[ splits(\"\\n\")? | split(\":\") as $i | \\\n",
    "                            { ($i[0]?) : ( $i[1] | sub(\"( )+\"; \"\"; \"sl\") ) } ]\\'' % f_path,\n",
    "                       'echo \"<BREAK>\"',\n",
    "                       'pdftotext -q -nopgbrk -raw %s -' % f_path,\n",
    "                       'echo \"<BREAK>\"'\n",
    "                   ])\n",
    "    (_out,_err)                 =   sub_popen(cmd,stdout=sub_PIPE,shell=True).communicate()\n",
    "    assert _err is None\n",
    "    res = _out.split('<BREAK>')\n",
    "    # plpy.log(res[0].strip('\\n'))\n",
    "    # plpy.log(\"----------\")\n",
    "    # plpy.log(res[1].strip('\\n'))\n",
    "\n",
    "    $BODY$;"
   ]
  },
  {
   "cell_type": "code",
   "execution_count": null,
   "metadata": {
    "code_folding": [],
    "collapsed": true
   },
   "outputs": [],
   "source": [
    "fs_tbl_and_func=\"\"\"\n",
    "    DROP TABLE IF EXISTS file_idx;\n",
    "\n",
    "    CREATE TABLE file_idx (\n",
    "        src_db                text,\n",
    "        src_uid                integer,\n",
    "        _key                text,\n",
    "        _filetype            text,\n",
    "        _info                jsonb,\n",
    "        _run_ocr                boolean default false,\n",
    "        _metadata                jsonb,\n",
    "        _content  text\n",
    "    );\n",
    "\n",
    "    create EXTENSION plsh with version '3';\n",
    "\n",
    "    \"\"\"\n",
    "pdf_metadata_func=\"\"\"\n",
    "    drop function if exists zf_pdf_metadata( text ) cascade;\n",
    "    create function zf_pdf_metadata( text )\n",
    "    returns text as E'\n",
    "    #!/bin/bash\n",
    "    pdfinfo -meta $1 | jq -sRcMj \\\\'[ splits(\"\\n\")? | split(\":\") as $i | \n",
    "    { ($i[0]?) : ( $i[1] | sub(\"( )+\"; \"\"; \"sl\") ) } ]\\\\'\n",
    "    ' LANGUAGE plsh;\n",
    "\n",
    "    \"\"\"\n",
    "pdftotext_func_sh=\"\"\"\n",
    "    drop function if exists zf_pdftotext( text ) cascade;\n",
    "    create function zf_pdftotext( text )\n",
    "    returns text as E'\n",
    "    #!/bin/bash\n",
    "    pdftotext -q -nopgbrk -raw $1 -\n",
    "    ' LANGUAGE plsh;\n",
    "    \"\"\"\n",
    "pdftotext_func_py=\"\"\"\n",
    "    drop function if exists zf_pdftotext( text ) cascade;\n",
    "    create function zf_pdftotext( text )\n",
    "    returns text as E'\n",
    "    #!/bin/bash\n",
    "    pdftotext -q -nopgbrk -raw $1 -\n",
    "    ' LANGUAGE plsh;\n",
    "    \"\"\"\n",
    "\n",
    "fps_gmail_update = \"\"\"\n",
    "\n",
    "    \n",
    "    \n",
    "\n",
    "    \"\"\""
   ]
  },
  {
   "cell_type": "code",
   "execution_count": null,
   "metadata": {
    "code_folding": [],
    "collapsed": false
   },
   "outputs": [],
   "source": [
    "%%sql postgres@system\n",
    "select count(*) from gmail"
   ]
  },
  {
   "cell_type": "code",
   "execution_count": null,
   "metadata": {
    "code_folding": [
     1
    ],
    "collapsed": false
   },
   "outputs": [],
   "source": [
    "%%sql postgres@system\n",
    "-- SELECT RECENT UPDATES WITH ATTACHMENTS\n",
    "\n",
    "    select \n",
    "        uid,\n",
    "        _attachments a,\n",
    "        json_array_length(_attachments::json) len\n",
    "    from (\n",
    "        select \n",
    "            orig_msg->'attachments' _attachments,\n",
    "            uid\n",
    "        from gmail\n",
    "        where json_array_length((orig_msg->'attachments')::json) > 0\n",
    "        AND last_updated > '2014-10-20'\n",
    "        limit 10\n",
    "    ) f1"
   ]
  },
  {
   "cell_type": "code",
   "execution_count": null,
   "metadata": {
    "code_folding": [
     1
    ],
    "collapsed": false
   },
   "outputs": [],
   "source": [
    "%%sql postgres@system\n",
    "-- SELECT ATTACHMENT INFO WITH GMAIL UID\n",
    "\n",
    "    select\n",
    "        'gmail' src_db,\n",
    "        uid src_uid,\n",
    "        _key,\n",
    "        regexp_replace(((_json->_key)::jsonb->'name')::text,E'\"(.*)\\.([^\\.]+)\"',E'\\2','g') _filetype,\n",
    "        (_json->_key)::jsonb _info,\n",
    "        false _run_ocr\n",
    "    from  (\n",
    "        select \n",
    "            json_object_keys(json_array_elements(_att::json)::json) _key,\n",
    "            json_array_elements(_att::json)::json _json,\n",
    "            uid\n",
    "        from\n",
    "\n",
    "            (\n",
    "            select \n",
    "                _attachments _att,uid\n",
    "            from (\n",
    "                select \n",
    "                    orig_msg->'attachments' _attachments,\n",
    "                    uid\n",
    "                from gmail\n",
    "                where \n",
    "                json_array_length((orig_msg->'attachments')::json) > 0\n",
    "                and uid = 77753\n",
    "            ) f1\n",
    "        ) f2\n",
    "    ) f3"
   ]
  },
  {
   "cell_type": "code",
   "execution_count": null,
   "metadata": {
    "code_folding": [
     2
    ],
    "collapsed": false
   },
   "outputs": [],
   "source": [
    "%%sql postgres@system\n",
    "DROP FUNCTION IF EXISTS fs_upsert_attachments_with_gmail_uid(integer);\n",
    "CREATE OR REPLACE FUNCTION fs_upsert_attachments_with_gmail_uid(gmail_uid integer) \n",
    "    RETURNS text AS $funct$\n",
    "\n",
    "    T = {'gmail_uid' : gmail_uid}\n",
    "\n",
    "    qry = \"\"\"\n",
    "            with upd as (\n",
    "                select\n",
    "                    'gmail' src_db,\n",
    "                    uid src_uid,\n",
    "                    _key,\n",
    "                    regexp_replace(((_json->_key)::jsonb->'name')::text,E'\"(.*)\\\\\\\\.([^\\.]+)\"',E'\\\\\\\\2','g') _filetype,\n",
    "                    (_json->_key)::jsonb _info,\n",
    "                    false _run_ocr\n",
    "                from  (\n",
    "                    select \n",
    "                        json_object_keys(json_array_elements(_att::json)::json) _key,\n",
    "                        json_array_elements(_att::json)::json _json,\n",
    "                        uid\n",
    "                    from\n",
    "\n",
    "                        (\n",
    "                        select \n",
    "                            _attachments _att,uid\n",
    "                        from (\n",
    "                            select \n",
    "                                orig_msg->'attachments' _attachments,\n",
    "                                uid\n",
    "                            from gmail\n",
    "                            where \n",
    "                            json_array_length((orig_msg->'attachments')::json) > 0\n",
    "                            and uid = %(gmail_uid)s\n",
    "                        ) f1\n",
    "                    ) f2\n",
    "                ) f3\n",
    "            )\n",
    "            insert into file_idx (\n",
    "                src_db,\n",
    "                src_uid,\n",
    "                _key,\n",
    "                _filetype,\n",
    "                _info,\n",
    "                _run_ocr\n",
    "                )\n",
    "            select \n",
    "                u.src_db,\n",
    "                u.src_uid,\n",
    "                u._key,\n",
    "                u._filetype,\n",
    "                u._info,\n",
    "                u._run_ocr\n",
    "            from \n",
    "                upd u,\n",
    "                (select array_agg(_key) all_keys from file_idx) s1\n",
    "            where all_keys is null\n",
    "            OR not u._key = any(all_keys)\n",
    "\n",
    "          \"\"\" % T\n",
    "\n",
    "    plpy.execute(qry)\n",
    "    return \"ok\"\n",
    "\n",
    "    $funct$\n",
    "    LANGUAGE plpythonu;"
   ]
  },
  {
   "cell_type": "code",
   "execution_count": null,
   "metadata": {
    "code_folding": [],
    "collapsed": false
   },
   "outputs": [],
   "source": [
    "%%sql postgres@system\n",
    "-- TEST fs_upsert_attachments_with_gmail_uid\n",
    "    select fs_upsert_attachments_with_gmail_uid(77753)"
   ]
  },
  {
   "cell_type": "code",
   "execution_count": null,
   "metadata": {
    "code_folding": [
     1
    ],
    "collapsed": false
   },
   "outputs": [],
   "source": [
    "%%sql postgres@system\n",
    "DROP FUNCTION if exists fs_file_idx_update_on_gmail_update() cascade;\n",
    "DROP TRIGGER if exists fs_file_idx_update_on_gmail_update_trigger ON file_idx;\n",
    "CREATE OR REPLACE FUNCTION fs_file_idx_update_on_gmail_update()\n",
    "    RETURNS TRIGGER AS $funct$\n",
    "\n",
    "    qry = \"select fs_upsert_attachments_with_gmail_uid(%s);\" % TD[\"new\"][\"uid\"]\n",
    "    plpy.execute(qry)\n",
    "    \n",
    "    $funct$ \n",
    "    language \"plpythonu\";\n",
    "\n",
    "    CREATE TRIGGER fs_file_idx_update_on_gmail_update_trigger\n",
    "    AFTER UPDATE OR INSERT ON gmail\n",
    "    FOR EACH ROW\n",
    "    EXECUTE PROCEDURE fs_file_idx_update_on_gmail_update();"
   ]
  },
  {
   "cell_type": "code",
   "execution_count": null,
   "metadata": {
    "code_folding": [
     1
    ],
    "collapsed": false
   },
   "outputs": [],
   "source": [
    "%%sql postgres@system\n",
    "-- TEST fs_file_idx_update_on_gmail_update_trigger\n",
    "    update gmail set last_updated=now()\n",
    "    where uid = 107966"
   ]
  },
  {
   "cell_type": "code",
   "execution_count": null,
   "metadata": {
    "collapsed": false,
    "scrolled": true
   },
   "outputs": [],
   "source": [
    "%%sql postgres@system\n",
    "select * from \n",
    "     all_attachments aa\n",
    "\n",
    "    order by uid desc\n",
    "    limit 10"
   ]
  },
  {
   "cell_type": "code",
   "execution_count": null,
   "metadata": {
    "code_folding": [
     1
    ],
    "collapsed": false,
    "scrolled": true
   },
   "outputs": [],
   "source": [
    "%%sql postgres@system\n",
    "-- TEST BATCH fs_file_idx_update_on_gmail_update_trigger\n",
    "    with upd as (\n",
    "        select src_uid from all_attachments aa\n",
    "        order by aa.src_uid asc\n",
    "        offset 10\n",
    "        limit 1000\n",
    "    )\n",
    "    update gmail g set last_updated=now()\n",
    "    from upd u\n",
    "    where g.uid = u.src_uid\n",
    "    "
   ]
  },
  {
   "cell_type": "code",
   "execution_count": null,
   "metadata": {
    "code_folding": [
     0,
     17,
     27,
     35,
     44
    ],
    "collapsed": false,
    "scrolled": true
   },
   "outputs": [],
   "source": [
    "%%sql postgres@system\n",
    "DROP FUNCTION if exists fps_gmail_update() cascade;\n",
    "DROP TRIGGER if exists fps_gmail_update_trigger ON file_idx;\n",
    "CREATE OR REPLACE FUNCTION fps_gmail_update()\n",
    "    RETURNS TRIGGER AS $funct$\n",
    "\n",
    "    from subprocess                         import Popen            as sub_popen\n",
    "    from subprocess                         import PIPE             as sub_PIPE\n",
    "    from traceback                      import format_exc       as tb_format_exc\n",
    "    from sys                            import exc_info         as sys_exc_info\n",
    "\n",
    "    def txt_log(msg):\n",
    "        with open('/tmp/tmp','a+') as f:\n",
    "            f.write(msg+'\\n')\n",
    "\n",
    "    def upd_pdf(f_path):\n",
    "        cmd = ';'.join([  'pdfinfo -meta %s | jq -sRcMj \\'[ splits(\"\\\\n\")? | split(\":\") as $i | \\\n",
    "                                { ($i[0]?) : ( $i[1] | sub(\"( )+\"; \"\"; \"sl\") ) } ]\\' \\\n",
    "                                | jq -cMj \\'add\\'' % f_path,\n",
    "                           'echo \"<BREAK>\"',\n",
    "                           'pdftotext -q -nopgbrk -layout %s -' % f_path,\n",
    "                           'echo \"<BREAK>\"'\n",
    "                       ])\n",
    "        (_out,_err)                 =   sub_popen(cmd,stdout=sub_PIPE,shell=True).communicate()\n",
    "        assert _err is None\n",
    "        res = _out.split('<BREAK>')\n",
    "        TD[\"new\"][\"_metadata\"] = res[0].strip('\\n[]')\n",
    "        _content = res[1].strip('\\n')\n",
    "        if _content:\n",
    "            TD[\"new\"][\"_content\"] = _content\n",
    "        else:\n",
    "            TD[\"new\"][\"_run_ocr\"] = True\n",
    "        return TD[\"new\"]\n",
    "\n",
    "    def upd_from_ocr_pdf(f_path):\n",
    "        cmd = 'pdftotext -q -nopgbrk -raw %s -' % ('%s_ocr.pdf' % f_path)\n",
    "        (_out,_err)                 =   sub_popen(cmd,stdout=sub_PIPE,shell=True).communicate()\n",
    "        assert _err is None\n",
    "        if _out:\n",
    "            TD[\"new\"][\"_content\"] = _out\n",
    "        return TD[\"new\"]\n",
    "\n",
    "    try:\n",
    "        base_dir = '/home/ub2/ARCHIVE/gmail_attachments/'\n",
    "        f_key = TD[\"new\"][\"_key\"]\n",
    "        f_name = f_key\n",
    "        f_path = base_dir + f_name\n",
    "        f_type = TD[\"new\"][\"_filetype\"]\n",
    "        f_meta = TD[\"new\"][\"_metadata\"]\n",
    "        f_ocr = TD[\"new\"][\"_run_ocr\"]\n",
    "\n",
    "        # FIRST PASS -- ATTEMPT TO EXTRACT\n",
    "        if f_type=='pdf' and not f_meta:\n",
    "            TD[\"new\"] = upd_pdf(f_path)\n",
    "            if TD[\"new\"][\"_run_ocr\"]==True:\n",
    "\n",
    "                cmd = [ 'echo \"GET /send?uuid=%s' % f_key,\n",
    "                        '&filename=%s' % f_name,\n",
    "                        '&filepath=%s' % f_path,\n",
    "                        '\" | socat - tcp:0.0.0.0:12501,reuseaddr,nonblock,shut-down'\n",
    "                        ]\n",
    "                (_out,_err) = sub_popen(''.join(cmd),stdout=sub_PIPE,shell=True).communicate()\n",
    "                assert _err is None\n",
    "\n",
    "\n",
    "        # SECOND PASS -- EXTRACT FROM OCR PDF\n",
    "        elif f_meta and not f_ocr:\n",
    "            TD[\"new\"] = upd_from_ocr_pdf(f_path)\n",
    "\n",
    "        return \"MODIFY\"\n",
    "\n",
    "\n",
    "    except plpy.SPIError:\n",
    "        plpy.log('fps_gmail_update FAILED')\n",
    "        plpy.log(tb_format_exc())\n",
    "        plpy.log(sys_exc_info()[0])\n",
    "        return\n",
    "\n",
    "\n",
    "    $funct$ \n",
    "    language \"plpythonu\";\n",
    "\n",
    "    CREATE TRIGGER fps_gmail_update_trigger\n",
    "    BEFORE UPDATE OR INSERT ON file_idx\n",
    "    FOR EACH ROW\n",
    "    EXECUTE PROCEDURE fps_gmail_update();"
   ]
  },
  {
   "cell_type": "code",
   "execution_count": null,
   "metadata": {
    "code_folding": [
     1
    ],
    "collapsed": true
   },
   "outputs": [],
   "source": [
    "%%sql postgres@system \n",
    "-- MOCK FILE_IDX INSERT\n",
    "    delete from file_idx where src_uid=128859;\n",
    "\n",
    "    insert into file_idx (\n",
    "        src_db,\n",
    "        src_uid,\n",
    "        _key,\n",
    "        _filetype,\n",
    "        _info,\n",
    "        _run_ocr\n",
    "    )\n",
    "    values (\n",
    "        'gmail',\n",
    "        128859,\n",
    "        '06893ea',\n",
    "        'pdf',\n",
    "        '{\"name\": \"LAP.pdf\", \"content_type\": \"application/pdf\", \"size_in_kb\": 22254}'::jsonb,\n",
    "        false\n",
    "    );"
   ]
  },
  {
   "cell_type": "code",
   "execution_count": null,
   "metadata": {
    "code_folding": [],
    "collapsed": false
   },
   "outputs": [],
   "source": [
    "%%sql postgres@system \n",
    "-- SHOW FILE_IDX\n",
    "    select * from file_idx"
   ]
  },
  {
   "cell_type": "code",
   "execution_count": null,
   "metadata": {
    "code_folding": [
     3
    ],
    "collapsed": false
   },
   "outputs": [],
   "source": [
    "%%sql postgres@system \n",
    "-- DELETE FROM FILE_IDX\n",
    "    DELETE from file_idx WHERE \n",
    "    true\n",
    "    --src_uid=77753"
   ]
  }
 ],
 "metadata": {
  "kernelspec": {
   "display_name": "IPython (Python 2)",
   "language": "python",
   "name": "python2"
  },
  "language_info": {
   "codemirror_mode": {
    "name": "ipython",
    "version": 2
   },
   "file_extension": ".py",
   "mimetype": "text/x-python",
   "name": "python",
   "nbconvert_exporter": "python",
   "pygments_lexer": "ipython2",
   "version": "2.7.9"
  }
 },
 "nbformat": 4,
 "nbformat_minor": 0
}
